{
 "cells": [
  {
   "cell_type": "markdown",
   "id": "ef7506d8",
   "metadata": {},
   "source": [
    "<h1 style=\"color: #111; font-family: 'Helvetica Neue', sans-serif; font-size: 50px; font-weight: bold; letter-spacing: -1px; line-height: 1; text-align: center; \">Crout's Method</h1>"
   ]
  },
  {
   "cell_type": "code",
   "execution_count": 20,
   "id": "72be093d",
   "metadata": {},
   "outputs": [
    {
     "name": "stdout",
     "output_type": "stream",
     "text": [
      "\n",
      " Enter the order of the the Matrix: 3\n"
     ]
    }
   ],
   "source": [
    "#taking the order of the matrix\n",
    "n= int(input(\"\\n Enter the order of the the Matrix: \"))\n",
    "arr=[[0 for i in range(n+1)] for j in range (n+1)]\n",
    "b=[[0 for i in range(n+1)] for j in range (n+1)]\n",
    "u=[[0 for i in range(n+1)] for j in range (n+1)]\n",
    "x=[0 for i in range(10)]"
   ]
  },
  {
   "cell_type": "code",
   "execution_count": 15,
   "id": "39500564",
   "metadata": {},
   "outputs": [
    {
     "name": "stdout",
     "output_type": "stream",
     "text": [
      "Enter the Coef of the matrix : \n",
      "\n",
      "2\n",
      "1\n",
      "4\n",
      "8\n",
      "-3\n",
      "2\n",
      "4\n",
      "11\n",
      "-1\n",
      "Rnter thr constaant: \n",
      "\n",
      "12\n",
      "20\n",
      "33\n"
     ]
    }
   ],
   "source": [
    "#taking the coeff\n",
    "print (\"Enter the Coef of the matrix : \\n\")\n",
    "for i in range (0,n):\n",
    "       for j in range (0,n):\n",
    "           arr[i][j]=float(input())\n",
    "#taking the const\n",
    "print(\"Enter the constant: \\n\")\n",
    "for i in range(0,n):\n",
    "       arr[i][n]=float(input())\n",
    "       "
   ]
  },
  {
   "cell_type": "code",
   "execution_count": 16,
   "id": "b823a925",
   "metadata": {},
   "outputs": [],
   "source": [
    "#the start of CROUT's method\n",
    "for i in range(0,n):\n",
    "    b[i][0]= arr[i][0]\n",
    "for j in range (1,n+1):\n",
    "    u[0][j]=(arr[0][j]/b[0][0])\n",
    "for p in range (1,n):\n",
    "    for i in range(p,n):\n",
    "        for k in range(0,p):\n",
    "            arr[i][p]-=b[i][k]*u[k][p]\n",
    "        b[i][p]=arr[i][p]\n",
    "    for j in range (p+1,n+1):\n",
    "        for k in range (0,p):\n",
    "            arr[p][j]-=b[p][k]*u[k][j]\n",
    "        u[p][j]=arr[p][j]/b[p][p]\n",
    "for k in range(0,n):\n",
    "    i=n-k-1\n",
    "    x[i]=u[i][n]\n",
    "    for j in range (i+1,n):\n",
    "        x[i]-= u[i][j]*x[j]\n"
   ]
  },
  {
   "cell_type": "code",
   "execution_count": 17,
   "id": "53a42229",
   "metadata": {},
   "outputs": [
    {
     "name": "stdout",
     "output_type": "stream",
     "text": [
      "the result:\n",
      "\n",
      "\n",
      " x[ 0 ] = 3.0 \n",
      "\n",
      "\n",
      " x[ 1 ] = 2.0 \n",
      "\n",
      "\n",
      " x[ 2 ] = 1.0 \n",
      "\n"
     ]
    }
   ],
   "source": [
    "#Displaying the result\n",
    "print (\"the result:\\n\")\n",
    "for i in range (0,n):\n",
    "    print(\"\\n x[\",i,\"] =\",x[i],\"\\n\")"
   ]
  },
  {
   "cell_type": "code",
   "execution_count": null,
   "id": "8bdfd929",
   "metadata": {},
   "outputs": [],
   "source": []
  },
  {
   "cell_type": "code",
   "execution_count": null,
   "id": "7b83c73d",
   "metadata": {},
   "outputs": [],
   "source": []
  }
 ],
 "metadata": {
  "kernelspec": {
   "display_name": "Python 3",
   "language": "python",
   "name": "python3"
  },
  "language_info": {
   "codemirror_mode": {
    "name": "ipython",
    "version": 3
   },
   "file_extension": ".py",
   "mimetype": "text/x-python",
   "name": "python",
   "nbconvert_exporter": "python",
   "pygments_lexer": "ipython3",
   "version": "3.8.8"
  }
 },
 "nbformat": 4,
 "nbformat_minor": 5
}
