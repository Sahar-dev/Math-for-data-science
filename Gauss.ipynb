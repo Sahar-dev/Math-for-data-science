{
 "cells": [
  {
   "cell_type": "markdown",
   "id": "7769f321",
   "metadata": {},
   "source": [
    "<h1 style=\"color: #111; font-family: 'Helvetica Neue', sans-serif; font-size: 50px; font-weight: bold; letter-spacing: -1px; line-height: 1; text-align: center; \">Gauss Resolution</h1>\n"
   ]
  },
  {
   "cell_type": "markdown",
   "id": "44141dbb",
   "metadata": {},
   "source": [
    "<hr>\n",
    "<hr>\n",
    "<h3>The algorithme:</h3>\n",
    "\n",
    "1. Start\n",
    "\n",
    "2. Read Number of Unknowns: n\n",
    "\n",
    "3. Read Augmented Matrix (A) of n by n+1 Size\n",
    "\n",
    "4. Transform Augmented Matrix (A) \n",
    "   to Upper Trainagular Matrix by Row Operations.\n",
    "\n",
    "5. Obtain Solution by Back Substitution.\n",
    "\n",
    "6. Display Result.\n",
    "\n",
    "7. Stop"
   ]
  },
  {
   "cell_type": "code",
   "execution_count": 3,
   "id": "f678dcce",
   "metadata": {},
   "outputs": [
    {
     "ename": "KeyboardInterrupt",
     "evalue": "Interrupted by user",
     "output_type": "error",
     "traceback": [
      "\u001b[1;31m---------------------------------------------------------------------------\u001b[0m",
      "\u001b[1;31mKeyboardInterrupt\u001b[0m                         Traceback (most recent call last)",
      "\u001b[1;32m<ipython-input-3-d43cd061aef7>\u001b[0m in \u001b[0;36m<module>\u001b[1;34m\u001b[0m\n\u001b[0;32m     49\u001b[0m \u001b[1;33m\u001b[0m\u001b[0m\n\u001b[0;32m     50\u001b[0m \u001b[1;33m\u001b[0m\u001b[0m\n\u001b[1;32m---> 51\u001b[1;33m \u001b[0mn\u001b[0m\u001b[1;33m=\u001b[0m\u001b[0mint\u001b[0m\u001b[1;33m(\u001b[0m\u001b[0minput\u001b[0m\u001b[1;33m(\u001b[0m\u001b[1;34m\"The order of the matrix \"\u001b[0m\u001b[1;33m)\u001b[0m\u001b[1;33m)\u001b[0m\u001b[1;33m\u001b[0m\u001b[1;33m\u001b[0m\u001b[0m\n\u001b[0m\u001b[0;32m     52\u001b[0m \u001b[0mx\u001b[0m \u001b[1;33m=\u001b[0m \u001b[1;33m[\u001b[0m\u001b[1;33m]\u001b[0m\u001b[1;33m\u001b[0m\u001b[1;33m\u001b[0m\u001b[0m\n\u001b[0;32m     53\u001b[0m \u001b[0ma\u001b[0m\u001b[1;33m=\u001b[0m\u001b[0msaisiemat1\u001b[0m\u001b[1;33m(\u001b[0m\u001b[0mn\u001b[0m\u001b[1;33m)\u001b[0m\u001b[1;33m\u001b[0m\u001b[1;33m\u001b[0m\u001b[0m\n",
      "\u001b[1;32m~\\anaconda3\\lib\\site-packages\\ipykernel\\kernelbase.py\u001b[0m in \u001b[0;36mraw_input\u001b[1;34m(self, prompt)\u001b[0m\n\u001b[0;32m    858\u001b[0m                 \u001b[1;34m\"raw_input was called, but this frontend does not support input requests.\"\u001b[0m\u001b[1;33m\u001b[0m\u001b[1;33m\u001b[0m\u001b[0m\n\u001b[0;32m    859\u001b[0m             )\n\u001b[1;32m--> 860\u001b[1;33m         return self._input_request(str(prompt),\n\u001b[0m\u001b[0;32m    861\u001b[0m             \u001b[0mself\u001b[0m\u001b[1;33m.\u001b[0m\u001b[0m_parent_ident\u001b[0m\u001b[1;33m,\u001b[0m\u001b[1;33m\u001b[0m\u001b[1;33m\u001b[0m\u001b[0m\n\u001b[0;32m    862\u001b[0m             \u001b[0mself\u001b[0m\u001b[1;33m.\u001b[0m\u001b[0m_parent_header\u001b[0m\u001b[1;33m,\u001b[0m\u001b[1;33m\u001b[0m\u001b[1;33m\u001b[0m\u001b[0m\n",
      "\u001b[1;32m~\\anaconda3\\lib\\site-packages\\ipykernel\\kernelbase.py\u001b[0m in \u001b[0;36m_input_request\u001b[1;34m(self, prompt, ident, parent, password)\u001b[0m\n\u001b[0;32m    902\u001b[0m             \u001b[1;32mexcept\u001b[0m \u001b[0mKeyboardInterrupt\u001b[0m\u001b[1;33m:\u001b[0m\u001b[1;33m\u001b[0m\u001b[1;33m\u001b[0m\u001b[0m\n\u001b[0;32m    903\u001b[0m                 \u001b[1;31m# re-raise KeyboardInterrupt, to truncate traceback\u001b[0m\u001b[1;33m\u001b[0m\u001b[1;33m\u001b[0m\u001b[1;33m\u001b[0m\u001b[0m\n\u001b[1;32m--> 904\u001b[1;33m                 \u001b[1;32mraise\u001b[0m \u001b[0mKeyboardInterrupt\u001b[0m\u001b[1;33m(\u001b[0m\u001b[1;34m\"Interrupted by user\"\u001b[0m\u001b[1;33m)\u001b[0m \u001b[1;32mfrom\u001b[0m \u001b[1;32mNone\u001b[0m\u001b[1;33m\u001b[0m\u001b[1;33m\u001b[0m\u001b[0m\n\u001b[0m\u001b[0;32m    905\u001b[0m             \u001b[1;32mexcept\u001b[0m \u001b[0mException\u001b[0m \u001b[1;32mas\u001b[0m \u001b[0me\u001b[0m\u001b[1;33m:\u001b[0m\u001b[1;33m\u001b[0m\u001b[1;33m\u001b[0m\u001b[0m\n\u001b[0;32m    906\u001b[0m                 \u001b[0mself\u001b[0m\u001b[1;33m.\u001b[0m\u001b[0mlog\u001b[0m\u001b[1;33m.\u001b[0m\u001b[0mwarning\u001b[0m\u001b[1;33m(\u001b[0m\u001b[1;34m\"Invalid Message:\"\u001b[0m\u001b[1;33m,\u001b[0m \u001b[0mexc_info\u001b[0m\u001b[1;33m=\u001b[0m\u001b[1;32mTrue\u001b[0m\u001b[1;33m)\u001b[0m\u001b[1;33m\u001b[0m\u001b[1;33m\u001b[0m\u001b[0m\n",
      "\u001b[1;31mKeyboardInterrupt\u001b[0m: Interrupted by user"
     ]
    }
   ],
   "source": [
    "\n",
    "def X(n,x):\n",
    "    for i in range(n):\n",
    "        x.append(\"x\"+str(i))\n",
    "    return x\n",
    "def saisiemat1(n):\n",
    "    l = []\n",
    "    for i in range(n):\n",
    "        l1=[]\n",
    "        for j in range(n):\n",
    "            l1.append(int(input(\" A{}{} \".format(i+1, j+1))))\n",
    "        l.append(l1)\n",
    "    return l\n",
    "def saisiemat2(n):\n",
    "    l = []\n",
    "    for i in range(n):\n",
    "        l.append(int(input(\" B{} \".format(i+1))))\n",
    "    return l\n",
    "\n",
    "def affiche(n,x,a,b):\n",
    "    for i in range(n):\n",
    "        print(\"{} {} = {}\".format(a[i],x[i],b[i]))\n",
    "def gauss(n,x,a,b):\n",
    "    for k in range(n-1):\n",
    "        for i in range(k+1,n):\n",
    "            p=a[i][k]/a[k][k]\n",
    "            for j in range(k,n):\n",
    "                a[i][j]=a[i][j]-p*a[k][j]\n",
    "            b[i]=b[i]-p*b[k]\n",
    "    for i in range(n): \n",
    "        b[i]=b[i]/a[i][i]\n",
    "        for j in range(n-1,i-1,-1):\n",
    "            a[i][j]=a[i][j]/a[i][i]\n",
    "    for i in range(n):\n",
    "        print(\"{} {} = {}\".format(a[i],x[i],b[i]))\n",
    "def resolution(n,x,a,b):\n",
    "    x[n-1]=b[n-1] /a[n-1][n-1]\n",
    "    for i in range(n-2,-1,-1):\n",
    "        s=b[i]\n",
    "        for j in range(i+1,n):\n",
    "            s-=a[i][j]*x[j]\n",
    "        x[i]=s/a[i][i]\n",
    "\n",
    "def output(n,x,a,b):\n",
    "        for i in range(n):\n",
    "            print(\"{} {} = {}\".format(a[i],x[i],b[i]))\n",
    "\n",
    "\n",
    "# In[ ]:\n",
    "\n",
    "\n",
    "n=int(input(\"The order of the matrix \"))\n",
    "x = []\n",
    "a=saisiemat1(n)\n",
    "b =saisiemat2(n)\n",
    "l=X(n,x)\n",
    "affiche(n,l,a,b)\n",
    "print(\"\")\n",
    "gauss(n,l,a,b)\n",
    "print(\"\")\n",
    "resolution(n,l,a,b)\n",
    "print(\"The result :\\n\")\n",
    "output(n,l,a,b)"
   ]
  },
  {
   "cell_type": "code",
   "execution_count": null,
   "id": "c5a5ec1d",
   "metadata": {},
   "outputs": [],
   "source": []
  }
 ],
 "metadata": {
  "kernelspec": {
   "display_name": "Python 3",
   "language": "python",
   "name": "python3"
  },
  "language_info": {
   "codemirror_mode": {
    "name": "ipython",
    "version": 3
   },
   "file_extension": ".py",
   "mimetype": "text/x-python",
   "name": "python",
   "nbconvert_exporter": "python",
   "pygments_lexer": "ipython3",
   "version": "3.8.8"
  }
 },
 "nbformat": 4,
 "nbformat_minor": 5
}
